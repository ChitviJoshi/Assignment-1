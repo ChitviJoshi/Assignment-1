{
  "nbformat": 4,
  "nbformat_minor": 0,
  "metadata": {
    "colab": {
      "provenance": [],
      "authorship_tag": "ABX9TyMoZZiSROFAWHF4tkztn2Zd",
      "include_colab_link": true
    },
    "kernelspec": {
      "name": "python3",
      "display_name": "Python 3"
    },
    "language_info": {
      "name": "python"
    }
  },
  "cells": [
    {
      "cell_type": "markdown",
      "metadata": {
        "id": "view-in-github",
        "colab_type": "text"
      },
      "source": [
        "<a href=\"https://colab.research.google.com/github/ChitviJoshi/Assignment-1/blob/main/AQ4.ipynb\" target=\"_parent\"><img src=\"https://colab.research.google.com/assets/colab-badge.svg\" alt=\"Open In Colab\"/></a>"
      ]
    },
    {
      "cell_type": "code",
      "execution_count": 4,
      "metadata": {
        "colab": {
          "base_uri": "https://localhost:8080/"
        },
        "id": "aM78UnLaYw1N",
        "outputId": "eaed8fc8-9606-4349-a9c0-84429c39bfb9"
      },
      "outputs": [
        {
          "output_type": "stream",
          "name": "stdout",
          "text": [
            "Writing Q4.cpp\n"
          ]
        }
      ],
      "source": [
        "%%writefile Q4.cpp\n",
        "//could not dynamically input array as argument(have to keep either columns/rows constant)\n",
        "#include <iostream>\n",
        "using namespace std;\n",
        "\n",
        "void reverse(int a[],int n){\n",
        "    int temp=0;\n",
        "    for(int i=0; i<n/2;i++){\n",
        "        temp=a[(n-1)-i];\n",
        "        a[(n-1)-i]=a[i];\n",
        "        a[i]=temp;\n",
        "    }\n",
        "    cout<<\"reversed array\"<<endl;\n",
        "    for(int i=0; i<n; i++){\n",
        "        cout<<a[i]<<\" \";\n",
        "    }\n",
        "}\n",
        "\n",
        "void transpose(int m, int n, int a[][3]){\n",
        "    int t[m][n];\n",
        "    for(int i=0;i<m;i++){\n",
        "        for(int j=0; j<n; j++){\n",
        "            t[i][j]=a[j][i];\n",
        "        }\n",
        "    }\n",
        "    cout<<endl<<\"Transpose\"<<endl;\n",
        "    for(int i=0;i<3;i++){\n",
        "    for (int j=0;j<3;j++){\n",
        "        cout<< t[i][j]<<\" \";\n",
        "    }\n",
        "    cout<<endl;\n",
        "    }\n",
        "    }\n",
        "\n",
        "\n",
        "void multiply(int a[][3], int b[][2], int c[][2]) {\n",
        "    for (int i = 0; i < 3; i++)\n",
        "        for (int j = 0; j < 2; j++) {\n",
        "            c[i][j] = 0;\n",
        "            for (int k = 0; k < 3; k++)\n",
        "                c[i][j] += a[i][k] * b[k][j];\n",
        "        }\n",
        "}\n",
        "\n",
        "int main() {\n",
        "    int arr[5]={5,8,9,2,3};\n",
        "    int A[3][3]={{10, 9, 8}, {7, 6, 5}, {4, 3, 2}};\n",
        "    int B[3][2]={{4, 5}, {7, 2}, {8, 9}};\n",
        "    int C[3][2];\n",
        "    reverse(arr,5);\n",
        "    transpose(3,3,A);\n",
        "\n",
        "    multiply(A, B, C);\n",
        "    cout<<\"Multiply Result\"<<endl;\n",
        "    for (int i = 0; i < 3; i++) {\n",
        "        for (int j = 0; j < 2; j++)\n",
        "            cout << C[i][j] << \" \";\n",
        "        cout << endl;\n",
        "    }\n",
        "\n",
        "    return 0;\n",
        "}"
      ]
    },
    {
      "cell_type": "code",
      "source": [
        "!g++ Q4.cpp -o Q4\n",
        "!./Q4"
      ],
      "metadata": {
        "colab": {
          "base_uri": "https://localhost:8080/"
        },
        "id": "pswjrHXlY-mk",
        "outputId": "4c33ccc2-f254-4159-e8cf-ec0636c81132"
      },
      "execution_count": 5,
      "outputs": [
        {
          "output_type": "stream",
          "name": "stdout",
          "text": [
            "reversed array\n",
            "3 2 9 8 5 \n",
            "Transpose\n",
            "10 7 4 \n",
            "9 6 3 \n",
            "8 5 2 \n",
            "Multiply Result\n",
            "167 140 \n",
            "110 92 \n",
            "53 44 \n"
          ]
        }
      ]
    }
  ]
}