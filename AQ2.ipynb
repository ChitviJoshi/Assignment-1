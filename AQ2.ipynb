{
  "nbformat": 4,
  "nbformat_minor": 0,
  "metadata": {
    "colab": {
      "provenance": [],
      "authorship_tag": "ABX9TyPYZnn/e63VLb/TB8aXyLKA",
      "include_colab_link": true
    },
    "kernelspec": {
      "name": "python3",
      "display_name": "Python 3"
    },
    "language_info": {
      "name": "python"
    }
  },
  "cells": [
    {
      "cell_type": "markdown",
      "metadata": {
        "id": "view-in-github",
        "colab_type": "text"
      },
      "source": [
        "<a href=\"https://colab.research.google.com/github/ChitviJoshi/Assignment-1/blob/main/AQ2.ipynb\" target=\"_parent\"><img src=\"https://colab.research.google.com/assets/colab-badge.svg\" alt=\"Open In Colab\"/></a>"
      ]
    },
    {
      "cell_type": "code",
      "execution_count": 1,
      "metadata": {
        "colab": {
          "base_uri": "https://localhost:8080/"
        },
        "id": "aM78UnLaYw1N",
        "outputId": "04606335-8d21-42d5-f4ec-dd4d4ca50324"
      },
      "outputs": [
        {
          "output_type": "stream",
          "name": "stdout",
          "text": [
            "Writing Q2.cpp\n"
          ]
        }
      ],
      "source": [
        "%%writefile Q2.cpp\n",
        "#include <iostream>\n",
        "using namespace std;\n",
        "int main()\n",
        "{\n",
        "    int n;\n",
        "    cout<<\"enter no of elements\";\n",
        "    cin>>n;\n",
        "    int A[n];\n",
        "    for(int i = 0; i < n; i++) {\n",
        "        cout << \"Enter element \" << i + 1 << \": \";\n",
        "        cin >> A[i];\n",
        "    }\n",
        "    cout << \"The created array: \";\n",
        "    for(int i = 0; i < n; i++) {\n",
        "        cout << A[i] << \" \";\n",
        "    }\n",
        "    cout << \"\\n\";\n",
        "\n",
        "    cout<<\"Removing duplicates\";\n",
        "    for (int i=0;i<n;i++){\n",
        "        for(int j=i+1;j<n;j++){\n",
        "            if (A[i]==A[j]){\n",
        "                for (int c = j; c < n - 1; c++) {\n",
        "                    A[c] = A[c + 1];}\n",
        "                n--;\n",
        "            }\n",
        "    }}\n",
        "    cout << \"The updated array: \";\n",
        "    for(int i = 0; i < n; i++) {\n",
        "        cout << A[i] << \" \";\n",
        "    }\n",
        "    cout << \"\\n\";\n",
        "\n",
        "    return 0;\n",
        "}"
      ]
    },
    {
      "cell_type": "code",
      "source": [
        "!g++ Q2.cpp -o Q2\n",
        "!./Q2"
      ],
      "metadata": {
        "colab": {
          "base_uri": "https://localhost:8080/"
        },
        "id": "pswjrHXlY-mk",
        "outputId": "a1cd72fe-7b79-447e-f273-4874642e5d40"
      },
      "execution_count": 2,
      "outputs": [
        {
          "output_type": "stream",
          "name": "stdout",
          "text": [
            "enter no of elements6\n",
            "Enter element 1: 7\n",
            "Enter element 2: 8\n",
            "Enter element 3: 2\n",
            "Enter element 4: 7\n",
            "Enter element 5: 4\n",
            "Enter element 6: 2\n",
            "The created array: 7 8 2 7 4 2 \n",
            "Removing duplicatesThe updated array: 7 8 2 4 \n"
          ]
        }
      ]
    }
  ]
}