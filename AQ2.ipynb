{
  "nbformat": 4,
  "nbformat_minor": 0,
  "metadata": {
    "colab": {
      "provenance": [],
      "authorship_tag": "ABX9TyPYZnn/e63VLb/TB8aXyLKA",
      "include_colab_link": true
    },
    "kernelspec": {
      "name": "python3",
      "display_name": "Python 3"
    },
    "language_info": {
      "name": "python"
    }
  },
  "cells": [
    {
      "cell_type": "markdown",
      "metadata": {
        "id": "view-in-github",
        "colab_type": "text"
      },
      "source": [
        "<a href=\"https://colab.research.google.com/github/ChitviJoshi/Assignment-1/blob/main/AQ2.ipynb\" target=\"_parent\"><img src=\"https://colab.research.google.com/assets/colab-badge.svg\" alt=\"Open In Colab\"/></a>"
      ]
    },
    {
      "cell_type": "code",
      "execution_count": 1,
      "metadata": {
        "colab": {
          "base_uri": "https://localhost:8080/"
        },
        "id": "IjEHK6NlZ9XB",
        "outputId": "6768cfb4-eb44-4938-9c64-5d855b1545e2"
      },
      "outputs": [
        {
          "output_type": "stream",
          "name": "stdout",
          "text": [
            "Writing Q2.cpp\n"
          ]
        }
      ],
      "source": [
        "%%writefile Q2.cpp\n",
        "#include <iostream>\n",
        "using namespace std;\n",
        "int main()\n",
        "{\n",
        "    int n;\n",
        "    cout<<\"enter no of elements\";\n",
        "    cin>>n;\n",
        "    int A[n];\n",
        "    for(int i = 0; i < n; i++) {\n",
        "        cout << \"Enter element \" << i + 1 << \": \";\n",
        "        cin >> A[i];\n",
        "    }\n",
        "    cout << \"The created array: \";\n",
        "    for(int i = 0; i < n; i++) {\n",
        "        cout << A[i] << \" \";\n",
        "    }\n",
        "    cout << \"\\n\";\n",
        "\n",
        "    cout<<\"Removing duplicates\";\n",
        "    for (int i=0;i<n;i++){\n",
        "        for(int j=i+1;j<n;j++){\n",
        "            if (A[i]==A[j]){\n",
        "                for (int c = j; c < n - 1; c++) {\n",
        "                    A[c] = A[c + 1];}\n",
        "                n--;\n",
        "            }\n",
        "    }}\n",
        "    cout << \"The updated array: \";\n",
        "    for(int i = 0; i < n; i++) {\n",
        "        cout << A[i] << \" \";\n",
        "    }\n",
        "    cout << \"\\n\";\n",
        "\n",
        "    return 0;\n",
        "}"
      ]
    },
    {
      "cell_type": "code",
      "source": [
        "!g++ Q2.cpp -o Q2\n",
        "!./Q2"
      ],
      "metadata": {
        "colab": {
          "base_uri": "https://localhost:8080/"
        },
        "id": "jF_GtejcaNVP",
        "outputId": "361e3a21-6d3a-4fa4-9356-3ca77327283f"
      },
      "execution_count": 2,
      "outputs": [
        {
          "output_type": "stream",
          "name": "stdout",
          "text": [
            "enter no of elements6\n",
            "Enter element 1: 7\n",
            "Enter element 2: 2\n",
            "Enter element 3: 8\n",
            "Enter element 4: 6\n",
            "Enter element 5: 7\n",
            "Enter element 6: 8\n",
            "The created array: 7 2 8 6 7 8 \n",
            "Removing duplicatesThe updated array: 7 2 8 6 \n"
          ]
        }
      ]
    }
  ]
}